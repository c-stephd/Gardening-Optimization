{
 "cells": [
  {
   "attachments": {},
   "cell_type": "markdown",
   "metadata": {},
   "source": [
    "# Gardening Optimization "
   ]
  },
  {
   "attachments": {},
   "cell_type": "markdown",
   "metadata": {},
   "source": [
    "\n",
    "Homeowners who have gardens at home do not usually have an idea of what crops to grow or when to grow them. This notebook highlights the best conditions to grow 35 crops. This notebook analyzes 3500 rows of crop data and analyzes conditions such as NPK, humidity, pH, rainfall, and temperature.\n",
    "We also find out which season is best to grow which crops."
   ]
  },
  {
   "cell_type": "code",
   "execution_count": 136,
   "metadata": {},
   "outputs": [],
   "source": [
    "#importing libraries\n",
    "import numpy as np\n",
    "import pandas as pd\n",
    "\n",
    "#importing data visualization librairies\n",
    "import seaborn as sns\n",
    "import matplotlib.pyplot as plt\n",
    "\n",
    "plt.rcParams[\"figure.figsize\"] = [7.50, 4.50]\n",
    "plt.rcParams[\"figure.autolayout\"] = True\n",
    "\n",
    "#importing interactive analytics\n",
    "from ipywidgets import interact"
   ]
  },
  {
   "cell_type": "code",
   "execution_count": 137,
   "metadata": {},
   "outputs": [],
   "source": [
    "# Importing the dataset\n",
    "\n",
    "data = pd.read_csv(\"Updated_Agric_dataset.csv\")"
   ]
  },
  {
   "cell_type": "code",
   "execution_count": 138,
   "metadata": {},
   "outputs": [
    {
     "data": {
      "text/html": [
       "<div>\n",
       "<style scoped>\n",
       "    .dataframe tbody tr th:only-of-type {\n",
       "        vertical-align: middle;\n",
       "    }\n",
       "\n",
       "    .dataframe tbody tr th {\n",
       "        vertical-align: top;\n",
       "    }\n",
       "\n",
       "    .dataframe thead th {\n",
       "        text-align: right;\n",
       "    }\n",
       "</style>\n",
       "<table border=\"1\" class=\"dataframe\">\n",
       "  <thead>\n",
       "    <tr style=\"text-align: right;\">\n",
       "      <th></th>\n",
       "      <th>Nitrogen</th>\n",
       "      <th>Phosphorus</th>\n",
       "      <th>Potassium</th>\n",
       "      <th>temperature</th>\n",
       "      <th>humidity</th>\n",
       "      <th>ph</th>\n",
       "      <th>rainfall</th>\n",
       "      <th>label</th>\n",
       "    </tr>\n",
       "  </thead>\n",
       "  <tbody>\n",
       "    <tr>\n",
       "      <th>0</th>\n",
       "      <td>185</td>\n",
       "      <td>41</td>\n",
       "      <td>275</td>\n",
       "      <td>26.113153</td>\n",
       "      <td>85.141923</td>\n",
       "      <td>6.458674</td>\n",
       "      <td>85.029794</td>\n",
       "      <td>plantain</td>\n",
       "    </tr>\n",
       "    <tr>\n",
       "      <th>1</th>\n",
       "      <td>184</td>\n",
       "      <td>42</td>\n",
       "      <td>268</td>\n",
       "      <td>27.479102</td>\n",
       "      <td>85.335922</td>\n",
       "      <td>5.612016</td>\n",
       "      <td>81.519789</td>\n",
       "      <td>plantain</td>\n",
       "    </tr>\n",
       "    <tr>\n",
       "      <th>2</th>\n",
       "      <td>192</td>\n",
       "      <td>46</td>\n",
       "      <td>257</td>\n",
       "      <td>26.110585</td>\n",
       "      <td>83.224921</td>\n",
       "      <td>6.669468</td>\n",
       "      <td>76.193598</td>\n",
       "      <td>plantain</td>\n",
       "    </tr>\n",
       "    <tr>\n",
       "      <th>3</th>\n",
       "      <td>188</td>\n",
       "      <td>55</td>\n",
       "      <td>234</td>\n",
       "      <td>28.846636</td>\n",
       "      <td>83.335824</td>\n",
       "      <td>6.830547</td>\n",
       "      <td>60.756861</td>\n",
       "      <td>plantain</td>\n",
       "    </tr>\n",
       "    <tr>\n",
       "      <th>4</th>\n",
       "      <td>152</td>\n",
       "      <td>44</td>\n",
       "      <td>208</td>\n",
       "      <td>29.014083</td>\n",
       "      <td>86.117302</td>\n",
       "      <td>5.853407</td>\n",
       "      <td>75.523305</td>\n",
       "      <td>plantain</td>\n",
       "    </tr>\n",
       "  </tbody>\n",
       "</table>\n",
       "</div>"
      ],
      "text/plain": [
       "   Nitrogen  Phosphorus  Potassium  temperature   humidity        ph  \\\n",
       "0       185          41        275    26.113153  85.141923  6.458674   \n",
       "1       184          42        268    27.479102  85.335922  5.612016   \n",
       "2       192          46        257    26.110585  83.224921  6.669468   \n",
       "3       188          55        234    28.846636  83.335824  6.830547   \n",
       "4       152          44        208    29.014083  86.117302  5.853407   \n",
       "\n",
       "    rainfall     label  \n",
       "0  85.029794  plantain  \n",
       "1  81.519789  plantain  \n",
       "2  76.193598  plantain  \n",
       "3  60.756861  plantain  \n",
       "4  75.523305  plantain  "
      ]
     },
     "execution_count": 138,
     "metadata": {},
     "output_type": "execute_result"
    }
   ],
   "source": [
    "# Let's view the dataset\n",
    "\n",
    "data.head(5)"
   ]
  },
  {
   "cell_type": "code",
   "execution_count": 139,
   "metadata": {},
   "outputs": [
    {
     "data": {
      "text/html": [
       "<div>\n",
       "<style scoped>\n",
       "    .dataframe tbody tr th:only-of-type {\n",
       "        vertical-align: middle;\n",
       "    }\n",
       "\n",
       "    .dataframe tbody tr th {\n",
       "        vertical-align: top;\n",
       "    }\n",
       "\n",
       "    .dataframe thead th {\n",
       "        text-align: right;\n",
       "    }\n",
       "</style>\n",
       "<table border=\"1\" class=\"dataframe\">\n",
       "  <thead>\n",
       "    <tr style=\"text-align: right;\">\n",
       "      <th></th>\n",
       "      <th>Nitrogen</th>\n",
       "      <th>Phosphorus</th>\n",
       "      <th>Potassium</th>\n",
       "      <th>temperature</th>\n",
       "      <th>humidity</th>\n",
       "      <th>ph</th>\n",
       "      <th>rainfall</th>\n",
       "      <th>label</th>\n",
       "    </tr>\n",
       "  </thead>\n",
       "  <tbody>\n",
       "    <tr>\n",
       "      <th>3495</th>\n",
       "      <td>156</td>\n",
       "      <td>263</td>\n",
       "      <td>135</td>\n",
       "      <td>20.663894</td>\n",
       "      <td>76.506193</td>\n",
       "      <td>6.198038</td>\n",
       "      <td>109.880173</td>\n",
       "      <td>cucumber</td>\n",
       "    </tr>\n",
       "    <tr>\n",
       "      <th>3496</th>\n",
       "      <td>155</td>\n",
       "      <td>264</td>\n",
       "      <td>132</td>\n",
       "      <td>24.650291</td>\n",
       "      <td>84.009861</td>\n",
       "      <td>6.698699</td>\n",
       "      <td>248.707654</td>\n",
       "      <td>cucumber</td>\n",
       "    </tr>\n",
       "    <tr>\n",
       "      <th>3497</th>\n",
       "      <td>158</td>\n",
       "      <td>254</td>\n",
       "      <td>134</td>\n",
       "      <td>25.338336</td>\n",
       "      <td>81.920520</td>\n",
       "      <td>6.663839</td>\n",
       "      <td>101.320589</td>\n",
       "      <td>cucumber</td>\n",
       "    </tr>\n",
       "    <tr>\n",
       "      <th>3498</th>\n",
       "      <td>168</td>\n",
       "      <td>272</td>\n",
       "      <td>134</td>\n",
       "      <td>25.622505</td>\n",
       "      <td>80.358088</td>\n",
       "      <td>6.373889</td>\n",
       "      <td>170.892823</td>\n",
       "      <td>cucumber</td>\n",
       "    </tr>\n",
       "    <tr>\n",
       "      <th>3499</th>\n",
       "      <td>158</td>\n",
       "      <td>241</td>\n",
       "      <td>134</td>\n",
       "      <td>24.169648</td>\n",
       "      <td>78.125876</td>\n",
       "      <td>6.013714</td>\n",
       "      <td>177.180539</td>\n",
       "      <td>cucumber</td>\n",
       "    </tr>\n",
       "  </tbody>\n",
       "</table>\n",
       "</div>"
      ],
      "text/plain": [
       "      Nitrogen  Phosphorus  Potassium  temperature   humidity        ph  \\\n",
       "3495       156         263        135    20.663894  76.506193  6.198038   \n",
       "3496       155         264        132    24.650291  84.009861  6.698699   \n",
       "3497       158         254        134    25.338336  81.920520  6.663839   \n",
       "3498       168         272        134    25.622505  80.358088  6.373889   \n",
       "3499       158         241        134    24.169648  78.125876  6.013714   \n",
       "\n",
       "        rainfall     label  \n",
       "3495  109.880173  cucumber  \n",
       "3496  248.707654  cucumber  \n",
       "3497  101.320589  cucumber  \n",
       "3498  170.892823  cucumber  \n",
       "3499  177.180539  cucumber  "
      ]
     },
     "execution_count": 139,
     "metadata": {},
     "output_type": "execute_result"
    }
   ],
   "source": [
    "# Let's view the last few rows of the data set\n",
    "\n",
    "data.tail(5)"
   ]
  },
  {
   "cell_type": "code",
   "execution_count": 140,
   "metadata": {},
   "outputs": [
    {
     "data": {
      "text/plain": [
       "(3500, 8)"
      ]
     },
     "execution_count": 140,
     "metadata": {},
     "output_type": "execute_result"
    }
   ],
   "source": [
    "# The shape of the data set\n",
    "\n",
    "data.shape"
   ]
  },
  {
   "cell_type": "code",
   "execution_count": 141,
   "metadata": {},
   "outputs": [
    {
     "data": {
      "text/plain": [
       "Nitrogen         int64\n",
       "Phosphorus       int64\n",
       "Potassium        int64\n",
       "temperature    float64\n",
       "humidity       float64\n",
       "ph             float64\n",
       "rainfall       float64\n",
       "label           object\n",
       "dtype: object"
      ]
     },
     "execution_count": 141,
     "metadata": {},
     "output_type": "execute_result"
    }
   ],
   "source": [
    "# Viewing the data types\n",
    "\n",
    "data.dtypes"
   ]
  },
  {
   "cell_type": "code",
   "execution_count": 142,
   "metadata": {},
   "outputs": [
    {
     "data": {
      "text/plain": [
       "Nitrogen       0\n",
       "Phosphorus     0\n",
       "Potassium      0\n",
       "temperature    0\n",
       "humidity       0\n",
       "ph             0\n",
       "rainfall       0\n",
       "label          0\n",
       "dtype: int64"
      ]
     },
     "execution_count": 142,
     "metadata": {},
     "output_type": "execute_result"
    }
   ],
   "source": [
    "# Are there any null values in the data set?\n",
    "\n",
    "data.isna().sum()"
   ]
  },
  {
   "cell_type": "code",
   "execution_count": 143,
   "metadata": {},
   "outputs": [
    {
     "name": "stdout",
     "output_type": "stream",
     "text": [
      "plantain       100\n",
      "cotton         100\n",
      "watermelon     100\n",
      "muskmelon      100\n",
      "apple          100\n",
      "orange         100\n",
      "papaya         100\n",
      "coconut        100\n",
      "jute           100\n",
      "mango          100\n",
      "coffee         100\n",
      "carrot         100\n",
      "soyabeans      100\n",
      "yam            100\n",
      "beans          100\n",
      "pawpaw         100\n",
      "grapes         100\n",
      "banana         100\n",
      "tomato         100\n",
      "maize          100\n",
      "pepper         100\n",
      "ugwu           100\n",
      "potato         100\n",
      "corn           100\n",
      "ginger         100\n",
      "rice           100\n",
      "chickpea       100\n",
      "pomegranate    100\n",
      "kidneybeans    100\n",
      "pigeonpeas     100\n",
      "mothbeans      100\n",
      "mungbean       100\n",
      "blackgram      100\n",
      "lentil         100\n",
      "cucumber       100\n",
      "Name: label, dtype: int64\n",
      "---------------------------------\n",
      "In total there are 35 crops!\n"
     ]
    }
   ],
   "source": [
    "# Nice!\n",
    "# Let's get an overview of all the data labels\n",
    "\n",
    "print(data['label'].value_counts())\n",
    "print(\"---------------------------------\")\n",
    "print(\"In total there are {} crops!\".format(data['label'].value_counts().count()))\n"
   ]
  },
  {
   "cell_type": "code",
   "execution_count": 144,
   "metadata": {},
   "outputs": [
    {
     "data": {
      "text/html": [
       "<div>\n",
       "<style scoped>\n",
       "    .dataframe tbody tr th:only-of-type {\n",
       "        vertical-align: middle;\n",
       "    }\n",
       "\n",
       "    .dataframe tbody tr th {\n",
       "        vertical-align: top;\n",
       "    }\n",
       "\n",
       "    .dataframe thead th {\n",
       "        text-align: right;\n",
       "    }\n",
       "</style>\n",
       "<table border=\"1\" class=\"dataframe\">\n",
       "  <thead>\n",
       "    <tr style=\"text-align: right;\">\n",
       "      <th></th>\n",
       "      <th>Nitrogen</th>\n",
       "      <th>Phosphorus</th>\n",
       "      <th>Potassium</th>\n",
       "      <th>temperature</th>\n",
       "      <th>humidity</th>\n",
       "      <th>ph</th>\n",
       "      <th>rainfall</th>\n",
       "    </tr>\n",
       "  </thead>\n",
       "  <tbody>\n",
       "    <tr>\n",
       "      <th>count</th>\n",
       "      <td>3500.000000</td>\n",
       "      <td>3500.000000</td>\n",
       "      <td>3500.000000</td>\n",
       "      <td>3500.000000</td>\n",
       "      <td>3500.000000</td>\n",
       "      <td>3500.000000</td>\n",
       "      <td>3500.000000</td>\n",
       "    </tr>\n",
       "    <tr>\n",
       "      <th>mean</th>\n",
       "      <td>82.126286</td>\n",
       "      <td>54.073429</td>\n",
       "      <td>80.985143</td>\n",
       "      <td>25.344947</td>\n",
       "      <td>70.969938</td>\n",
       "      <td>6.365678</td>\n",
       "      <td>122.287611</td>\n",
       "    </tr>\n",
       "    <tr>\n",
       "      <th>std</th>\n",
       "      <td>62.213992</td>\n",
       "      <td>45.113018</td>\n",
       "      <td>71.044949</td>\n",
       "      <td>4.876091</td>\n",
       "      <td>18.906241</td>\n",
       "      <td>0.684442</td>\n",
       "      <td>89.998936</td>\n",
       "    </tr>\n",
       "    <tr>\n",
       "      <th>min</th>\n",
       "      <td>0.000000</td>\n",
       "      <td>5.000000</td>\n",
       "      <td>5.000000</td>\n",
       "      <td>8.825675</td>\n",
       "      <td>14.258040</td>\n",
       "      <td>3.504752</td>\n",
       "      <td>20.211267</td>\n",
       "    </tr>\n",
       "    <tr>\n",
       "      <th>25%</th>\n",
       "      <td>31.000000</td>\n",
       "      <td>28.000000</td>\n",
       "      <td>25.000000</td>\n",
       "      <td>22.366162</td>\n",
       "      <td>61.781205</td>\n",
       "      <td>5.955711</td>\n",
       "      <td>65.885242</td>\n",
       "    </tr>\n",
       "    <tr>\n",
       "      <th>50%</th>\n",
       "      <td>74.000000</td>\n",
       "      <td>43.000000</td>\n",
       "      <td>47.000000</td>\n",
       "      <td>25.396502</td>\n",
       "      <td>73.261256</td>\n",
       "      <td>6.333639</td>\n",
       "      <td>95.246217</td>\n",
       "    </tr>\n",
       "    <tr>\n",
       "      <th>75%</th>\n",
       "      <td>121.000000</td>\n",
       "      <td>63.000000</td>\n",
       "      <td>152.000000</td>\n",
       "      <td>28.414823</td>\n",
       "      <td>84.843375</td>\n",
       "      <td>6.727345</td>\n",
       "      <td>143.124286</td>\n",
       "    </tr>\n",
       "    <tr>\n",
       "      <th>max</th>\n",
       "      <td>285.000000</td>\n",
       "      <td>279.000000</td>\n",
       "      <td>299.000000</td>\n",
       "      <td>43.675493</td>\n",
       "      <td>99.981876</td>\n",
       "      <td>9.935091</td>\n",
       "      <td>496.979333</td>\n",
       "    </tr>\n",
       "  </tbody>\n",
       "</table>\n",
       "</div>"
      ],
      "text/plain": [
       "          Nitrogen   Phosphorus    Potassium  temperature     humidity  \\\n",
       "count  3500.000000  3500.000000  3500.000000  3500.000000  3500.000000   \n",
       "mean     82.126286    54.073429    80.985143    25.344947    70.969938   \n",
       "std      62.213992    45.113018    71.044949     4.876091    18.906241   \n",
       "min       0.000000     5.000000     5.000000     8.825675    14.258040   \n",
       "25%      31.000000    28.000000    25.000000    22.366162    61.781205   \n",
       "50%      74.000000    43.000000    47.000000    25.396502    73.261256   \n",
       "75%     121.000000    63.000000   152.000000    28.414823    84.843375   \n",
       "max     285.000000   279.000000   299.000000    43.675493    99.981876   \n",
       "\n",
       "                ph     rainfall  \n",
       "count  3500.000000  3500.000000  \n",
       "mean      6.365678   122.287611  \n",
       "std       0.684442    89.998936  \n",
       "min       3.504752    20.211267  \n",
       "25%       5.955711    65.885242  \n",
       "50%       6.333639    95.246217  \n",
       "75%       6.727345   143.124286  \n",
       "max       9.935091   496.979333  "
      ]
     },
     "execution_count": 144,
     "metadata": {},
     "output_type": "execute_result"
    }
   ],
   "source": [
    "# Let's view the statistics of the data set\n",
    "\n",
    "data.describe()"
   ]
  },
  {
   "cell_type": "code",
   "execution_count": 146,
   "metadata": {},
   "outputs": [
    {
     "data": {
      "application/vnd.jupyter.widget-view+json": {
       "model_id": "c1f42d39bfa24506acdaddd00892f41f",
       "version_major": 2,
       "version_minor": 0
      },
      "text/plain": [
       "interactive(children=(Dropdown(description='crop', options=('plantain', 'cotton', 'watermelon', 'muskmelon', '…"
      ]
     },
     "metadata": {},
     "output_type": "display_data"
    }
   ],
   "source": [
    "@interact\n",
    "def summary(crop = list(data['label'].value_counts().index)):\n",
    "    x = data[data['label'] == crop]\n",
    "\n",
    "    print(\"Statistics for \", crop)\n",
    "    print(\".................................................\")\n",
    "    print(\"The minimum to maximum Nitrogen required is {} to {}\".format(x['Nitrogen'].min(), x['Nitrogen'].max()))\n",
    "    print(\".................................................\")\n",
    "    print(\"The minimum to maximum Phosphorus required is {} to {}\".format(x['Phosphorus'].min(), x['Phosphorus'].max()))\n",
    "    print(\".................................................\")\n",
    "    print(\"The minimum to maximum Pottasium required is {} to {}\".format(x['Potassium'].min(), x['Potassium'].max()))\n",
    "    print(\".................................................\")\n",
    "    print(\"The minimum to maximum Temperature required is {} to {}\".format(x['temperature'].min(), x['temperature'].max()))\n",
    "    print(\".................................................\")\n",
    "    print(\"The minimum to maximum Humidity required is {} to {}\".format(x['humidity'].min(), x['humidity'].max()))\n",
    "    print(\".................................................\")\n",
    "    print(\"The minimum to maximum Rainfall requird is {} to {}\".format(x['rainfall'].min(), x['rainfall'].max()))\n"
   ]
  },
  {
   "cell_type": "code",
   "execution_count": 147,
   "metadata": {},
   "outputs": [
    {
     "data": {
      "application/vnd.jupyter.widget-view+json": {
       "model_id": "ed243b50c2a84524970af1bb91c0f6bd",
       "version_major": 2,
       "version_minor": 0
      },
      "text/plain": [
       "interactive(children=(Dropdown(description='resources', options=('Nitrogen', 'Phosphorus', 'Potassium', 'tempe…"
      ]
     },
     "metadata": {},
     "output_type": "display_data"
    }
   ],
   "source": [
    "#Let's check crops that require high and low of each resource\n",
    "\n",
    "@interact\n",
    "def compare(resources = ['Nitrogen', 'Phosphorus', 'Potassium', 'temperature', 'ph', 'humidity', 'rainfall']):\n",
    "    print(\"Crop Statistics\")\n",
    "    print(\"......................................................\")\n",
    "    print(\"Crops that require high {} (higher than average {})\".format(resources, resources))\n",
    "    print(data[data[resources] >= data[resources].mean()]['label'].unique())\n",
    "    print(\"......................................................\")\n",
    "    print(\"Crops that require low {} (lower than average {})\".format(resources, resources))\n",
    "    print(data[data[resources] < data[resources].mean()]['label'].unique())\n",
    "\n"
   ]
  },
  {
   "attachments": {},
   "cell_type": "markdown",
   "metadata": {},
   "source": [
    "## Descriptive Analytics"
   ]
  },
  {
   "cell_type": "code",
   "execution_count": 148,
   "metadata": {},
   "outputs": [
    {
     "data": {
      "image/png": "[encoded data removed]",
      "text/plain": [
       "<Figure size 750x450 with 7 Axes>"
      ]
     },
     "metadata": {},
     "output_type": "display_data"
    }
   ],
   "source": [
    "# We create histograms to view the distribution of each condition\n",
    "\n",
    "fig,ax = plt.subplots(3,3)\n",
    "\n",
    "ax[0,0].hist(data['Nitrogen'], bins= 10, color='r')\n",
    "ax[0,0].set_title('Nitrogen')\n",
    "\n",
    "ax[0,1].hist(data['Phosphorus'], bins= 10, color='y')\n",
    "ax[0,1].set_title('Phosphorus')\n",
    "\n",
    "ax[0,2].hist(data['Potassium'], bins= 10, color='b')\n",
    "ax[0,2].set_title('Potassium')\n",
    "\n",
    "ax[1,0].hist(data['temperature'], bins= 10, color='g')\n",
    "ax[1,0].set_title('Temperature')\n",
    "\n",
    "ax[1,1].hist(data['ph'], bins= 10, color='orange')\n",
    "ax[1,1].set_title('pH')\n",
    "\n",
    "ax[1,2].hist(data['humidity'], bins= 10, color='violet')\n",
    "ax[1,2].set_title('Humidity')\n",
    "\n",
    "ax[2,1].hist(data['rainfall'], bins= 10, color='grey')\n",
    "ax[2,1].set_title('Rainfall')\n",
    "\n",
    "fig.delaxes(ax[2,0])\n",
    "fig.delaxes(ax[2,2])\n",
    "\n",
    "plt.show()\n"
   ]
  },
  {
   "attachments": {},
   "cell_type": "markdown",
   "metadata": {},
   "source": [
    "#### Insights from the plot\n",
    "\n",
    "1. Most of the crops require Nitrogen in amounts ranging from 0 to 150\n",
    "2. Most of the crops require Phosphorus in amounts ranging from 0 to 80\n",
    "3. Most of the crops require Potassium in amounts ranging from 0 to 70\n",
    "4. Most of the crops average temperature weather from 25 to 29 degree celcius\n",
    "5. Most of the crops prefer a neutral pH of 6.5 to 7 \n",
    "6. Most crops grow better in humid environments ranging from 65 to 100\n",
    "7. Very few crops require very high amounts of rainfall\n",
    "\n",
    "To get more insights, let's view crops that are at the very extremes of each condition."
   ]
  },
  {
   "cell_type": "code",
   "execution_count": 152,
   "metadata": {},
   "outputs": [
    {
     "name": "stdout",
     "output_type": "stream",
     "text": [
      "The crop that requires the highest amount of Nitrogen ['soyabeans' 'yam']\n",
      "The crop that requires the lowest amount of Nitrogen ['kidneybeans' 'pigeonpeas' 'mothbeans' 'mungbean' 'lentil' 'pomegranate'\n",
      " 'mango' 'grapes' 'apple' 'orange' 'coconut']\n",
      "...................................................................................................\n",
      "The crop that requires the highest amount of Phosphorus ['cucumber']\n",
      "The crop that requires the lowest amount of Phosphorus ['pomegranate' 'watermelon' 'muskmelon' 'orange' 'coconut']\n",
      "...................................................................................................\n",
      "The crop that requires the highest amount of Pottasium ['plantain']\n",
      "The crop that requires the lowest amount of Pottasium []\n",
      "...................................................................................................\n",
      "The crop that requires the highest temperatures ['grapes' 'papaya']\n",
      "The crop that requires the lowest temperatures ['grapes']\n",
      "...................................................................................................\n",
      "The crop that requires the highest amount of humidity ['coconut']\n",
      "The crop that requires the lowest amount of humidity ['chickpea' 'kidneybeans']\n",
      "...................................................................................................\n",
      "The crop that requires the highest amount of pH ['mothbeans']\n",
      "The crop that requires the lowest amount of pH ['potato' 'pigeonpeas' 'mothbeans' 'mango']\n",
      "...................................................................................................\n",
      "The crop that requires the highest amount of rainfall ['beans']\n",
      "The crop that requires the lowest amount of rainfall ['mothbeans' 'mungbean' 'lentil' 'muskmelon']\n",
      "...................................................................................................\n"
     ]
    }
   ],
   "source": [
    "# Insights into the data set\n",
    "\n",
    "print(\"The crop that requires the highest amount of Nitrogen\", data[data['Nitrogen'] >= 200]['label'].unique())\n",
    "print(\"The crop that requires the lowest amount of Nitrogen\", data[data['Nitrogen'] < 1]['label'].unique())\n",
    "print(\"...................................................................................................\")\n",
    "print(\"The crop that requires the highest amount of Phosphorus\", data[data['Phosphorus'] >= 200]['label'].unique())\n",
    "print(\"The crop that requires the lowest amount of Phosphorus\", data[data['Phosphorus'] < 7]['label'].unique())\n",
    "print(\"...................................................................................................\")\n",
    "print(\"The crop that requires the highest amount of Pottasium\", data[data['Potassium'] >= 250]['label'].unique())\n",
    "print(\"The crop that requires the lowest amount of Pottasium\", data[data['Potassium'] < 5 ]['label'].unique())\n",
    "print(\"...................................................................................................\")\n",
    "print(\"The crop that requires the highest temperatures\", data[data['temperature'] >= 40]['label'].unique())\n",
    "print(\"The crop that requires the lowest temperatures\", data[data['temperature'] < 9]['label'].unique())\n",
    "print(\"...................................................................................................\")\n",
    "print(\"The crop that requires the highest amount of humidity\", data[data['humidity'] >= 95]['label'].unique())\n",
    "print(\"The crop that requires the lowest amount of humidity\", data[data['humidity'] < 20]['label'].unique())\n",
    "print(\"...................................................................................................\")\n",
    "print(\"The crop that requires the highest amount of pH\", data[data['ph'] >= 9]['label'].unique())\n",
    "print(\"The crop that requires the lowest amount of pH\", data[data['ph'] < 5]['label'].unique())\n",
    "print(\"...................................................................................................\")\n",
    "print(\"The crop that requires the highest amount of rainfall\", data[data['rainfall'] >= 400]['label'].unique())\n",
    "print(\"The crop that requires the lowest amount of rainfall\", data[data['rainfall'] < 40]['label'].unique())\n",
    "print(\"...................................................................................................\")\n"
   ]
  },
  {
   "attachments": {},
   "cell_type": "markdown",
   "metadata": {},
   "source": [
    "In Nigeria, there are two seasons: Dry season and rainy season\n",
    "\n",
    "Rainy season lasts from April till October, with temperature range of 21 to 32 degree celcius, high rainfall, and high humidity.\n",
    "\n",
    "Dry season lasts from November till March, with a temperature range of 25 to 32 degree celcius, low rainfall, and low humidity.\n",
    "\n",
    "Let's view crops that are grown during each season."
   ]
  },
  {
   "cell_type": "code",
   "execution_count": 153,
   "metadata": {},
   "outputs": [
    {
     "name": "stdout",
     "output_type": "stream",
     "text": [
      "Crops that are suitable for rainy season (April till October) are: \n",
      "['rice' 'banana' 'orange' 'papaya' 'coconut' 'jute' 'coffee' 'yam' 'beans'\n",
      " 'pawpaw' 'cucumber']\n",
      ".........................................................................\n",
      "Crops that are suitable for dry season (November till March) are: \n",
      "['potato' 'kidneybeans' 'mothbeans']\n"
     ]
    }
   ],
   "source": [
    "#Analysing data\n",
    "\n",
    "print(\"Crops that are suitable for rainy season (April till October) are: \")\n",
    "print(data[(data['temperature'] >= 25) & (data['temperature'] <= 32) & (data['rainfall'] > 117) & (data['humidity'] > 69)]['label'].unique())\n",
    "print(\".........................................................................\")\n",
    "print(\"Crops that are suitable for dry season (November till March) are: \")\n",
    "print(data[(data['temperature'] >= 19) & (data['temperature'] <= 30) & (data['rainfall'] < 64) & (data['humidity'] < 50)]['label'].unique())\n"
   ]
  },
  {
   "attachments": {},
   "cell_type": "markdown",
   "metadata": {},
   "source": [
    "## Building the model\n",
    "\n",
    "1. We use K Means clustering to divide the dataset into clusters. The clusters help us determine the crops that could typically be grown with the same range of conditions or the same partition in your garden.\n",
    "\n",
    "2. We go ahead to build a logistic regression predictive model to decide the best crops for certain given conditions.\n"
   ]
  },
  {
   "cell_type": "code",
   "execution_count": 154,
   "metadata": {},
   "outputs": [],
   "source": [
    "from sklearn.cluster import KMeans\n",
    "\n",
    "#dropping the label column from the data\n",
    "X = data.drop(['label'], axis=1)\n",
    "X = X.values\n",
    "\n",
    "\n",
    "# Selecting optimum number of clusters using the elbow method (WSS-Within group Sum of Squares Plot)\n",
    "\n",
    "wss = []\n",
    "for k in range(1,11):\n",
    "    km = KMeans(n_clusters=k, init = 'k-means++', max_iter = 2000, n_init = 10, random_state = 42)\n",
    "    km = km.fit(X)\n",
    "    wss.append(km.inertia_)"
   ]
  },
  {
   "cell_type": "code",
   "execution_count": 155,
   "metadata": {},
   "outputs": [
    {
     "data": {
      "image/png": "[encoded data removed]",
      "text/plain": [
       "<Figure size 700x400 with 1 Axes>"
      ]
     },
     "metadata": {},
     "output_type": "display_data"
    }
   ],
   "source": [
    "# plotting the sum of squared distances wss\n",
    "\n",
    "plt.rcParams['figure.figsize'] = 7,4\n",
    "plt.plot(range(1,11),wss)\n",
    "plt.title('Elbow Method for finding the optimized number of Clusters')\n",
    "plt.xlabel('Number of Clusters')\n",
    "plt.ylabel('wss')\n",
    "plt.show()\n",
    "\n"
   ]
  },
  {
   "attachments": {},
   "cell_type": "markdown",
   "metadata": {},
   "source": [
    "### Implementing KMeans Algorithm"
   ]
  },
  {
   "cell_type": "code",
   "execution_count": 158,
   "metadata": {},
   "outputs": [
    {
     "name": "stdout",
     "output_type": "stream",
     "text": [
      "Crops in the first cluster:  ['rice' 'soyabeans' 'yam' 'beans']\n",
      "Crops in the second cluster:  ['ginger' 'rice' 'maize' 'chickpea' 'kidneybeans' 'pigeonpeas' 'mothbeans'\n",
      " 'mungbean' 'blackgram' 'lentil' 'pomegranate' 'banana' 'mango'\n",
      " 'watermelon' 'muskmelon' 'orange' 'papaya' 'coconut' 'cotton' 'jute'\n",
      " 'coffee' 'pawpaw']\n",
      "Crops in the third cluster:  ['plantain' 'tomato' 'pepper' 'ugwu' 'potato' 'corn' 'grapes' 'apple'\n",
      " 'carrot' 'cucumber']\n"
     ]
    }
   ],
   "source": [
    "# The number of clusters for optimization is 4\n",
    "\n",
    "km= KMeans(n_clusters= 3, init = 'k-means++', max_iter = 2000, n_init = 10, random_state = 42)\n",
    "y_clust = km.fit_predict(X)\n",
    "\n",
    "\n",
    "#Finding the results\n",
    "\n",
    "Y= data['label']\n",
    "y_clust= pd.DataFrame(y_clust)\n",
    "\n",
    "result = pd.concat([y_clust, Y], axis=1)\n",
    "result =  result.rename(columns= {0:'cluster'})\n",
    "\n",
    "#Checking the the clusters\n",
    "print('Crops in the first cluster: ', result[result['cluster'] == 0]['label'].unique())\n",
    "print('Crops in the second cluster: ', result[result['cluster'] == 1]['label'].unique())\n",
    "print('Crops in the third cluster: ', result[result['cluster'] == 2]['label'].unique())\n",
    "\n"
   ]
  },
  {
   "attachments": {},
   "cell_type": "markdown",
   "metadata": {},
   "source": [
    "### Predictive modelling"
   ]
  },
  {
   "cell_type": "code",
   "execution_count": 165,
   "metadata": {},
   "outputs": [],
   "source": [
    "# importing libraries\n",
    "\n",
    "from sklearn.linear_model import LogisticRegression\n",
    "from sklearn.preprocessing import StandardScaler\n",
    "from sklearn.model_selection import train_test_split\n",
    "\n",
    "\n",
    "# preparing data\n",
    "y= data['label']\n",
    "X= data.drop(['label'], axis = 1)\n",
    "\n",
    "# splitting data into test and training dataset\n",
    "\n",
    "X_train, X_test, y_train, y_test = train_test_split(X, y, test_size= 0.33, random_state= 0)\n",
    "\n",
    "#Building prediction model\n",
    "\n",
    "scaler = StandardScaler()\n",
    "X_train_scaled = scaler.fit_transform(X_train)  #applying scaling on each x training data\n",
    "X_test_scaled = scaler.transform(X_test)    #applying scaling on each x test data\n",
    "\n",
    "model= LogisticRegression(max_iter=150)\n",
    "model.fit(X_train_scaled, y_train)  \n",
    "y_pred= model.predict(X_test_scaled)\n"
   ]
  },
  {
   "cell_type": "code",
   "execution_count": 166,
   "metadata": {},
   "outputs": [
    {
     "data": {
      "image/png": "[encoded data removed]",
      "text/plain": [
       "<Figure size 1000x1000 with 2 Axes>"
      ]
     },
     "metadata": {},
     "output_type": "display_data"
    }
   ],
   "source": [
    "#Evaluating the model performance\n",
    "from sklearn.metrics import confusion_matrix\n",
    "\n",
    "#Printing the Confusing Matrix\n",
    "plt.rcParams['figure.figsize'] = (10,10)\n",
    "cm = confusion_matrix(y_test, y_pred)\n",
    "sns.heatmap(cm, annot = True, cmap = 'Wistia')\n",
    "plt.title('Confusion Matrix For Logistic Regression', fontsize = 15)\n",
    "plt.show()"
   ]
  },
  {
   "cell_type": "code",
   "execution_count": 167,
   "metadata": {},
   "outputs": [
    {
     "name": "stdout",
     "output_type": "stream",
     "text": [
      "              precision    recall  f1-score   support\n",
      "\n",
      "       apple       1.00      1.00      1.00        38\n",
      "      banana       1.00      1.00      1.00        32\n",
      "       beans       1.00      1.00      1.00        35\n",
      "   blackgram       0.96      0.82      0.89        33\n",
      "      carrot       1.00      1.00      1.00        34\n",
      "    chickpea       1.00      1.00      1.00        40\n",
      "     coconut       0.97      1.00      0.99        37\n",
      "      coffee       1.00      1.00      1.00        31\n",
      "        corn       1.00      1.00      1.00        48\n",
      "      cotton       1.00      1.00      1.00        32\n",
      "    cucumber       1.00      1.00      1.00        36\n",
      "      ginger       1.00      1.00      1.00        35\n",
      "      grapes       1.00      1.00      1.00        32\n",
      "        jute       0.72      0.79      0.75        33\n",
      " kidneybeans       1.00      0.97      0.98        32\n",
      "      lentil       0.81      0.97      0.88        30\n",
      "       maize       1.00      1.00      1.00        32\n",
      "       mango       0.97      1.00      0.99        33\n",
      "   mothbeans       1.00      0.94      0.97        31\n",
      "    mungbean       1.00      1.00      1.00        37\n",
      "   muskmelon       0.97      1.00      0.99        33\n",
      "      orange       1.00      0.96      0.98        23\n",
      "      papaya       0.96      0.85      0.90        26\n",
      "      pawpaw       1.00      0.97      0.99        37\n",
      "      pepper       0.63      0.84      0.72        31\n",
      "  pigeonpeas       0.93      1.00      0.96        26\n",
      "    plantain       1.00      1.00      1.00        30\n",
      " pomegranate       1.00      1.00      1.00        31\n",
      "      potato       1.00      1.00      1.00        36\n",
      "        rice       0.76      0.74      0.75        38\n",
      "   soyabeans       1.00      1.00      1.00        31\n",
      "      tomato       1.00      0.97      0.98        31\n",
      "        ugwu       0.79      0.58      0.67        33\n",
      "  watermelon       1.00      1.00      1.00        26\n",
      "         yam       1.00      1.00      1.00        32\n",
      "\n",
      "    accuracy                           0.95      1155\n",
      "   macro avg       0.96      0.95      0.95      1155\n",
      "weighted avg       0.96      0.95      0.95      1155\n",
      "\n"
     ]
    }
   ],
   "source": [
    "#Defining the classification Report\n",
    "from sklearn.metrics import classification_report\n",
    "\n",
    "#Printing the Classification Report\n",
    "cr = classification_report(y_test, y_pred)\n",
    "print(cr)"
   ]
  },
  {
   "cell_type": "code",
   "execution_count": null,
   "metadata": {},
   "outputs": [],
   "source": []
  }
 ],
 "metadata": {
  "kernelspec": {
   "display_name": "base",
   "language": "python",
   "name": "python3"
  },
  "language_info": {
   "codemirror_mode": {
    "name": "ipython",
    "version": 3
   },
   "file_extension": ".py",
   "mimetype": "text/x-python",
   "name": "python",
   "nbconvert_exporter": "python",
   "pygments_lexer": "ipython3",
   "version": "3.9.13"
  },
  "orig_nbformat": 4,
  "vscode": {
   "interpreter": {
    "hash": "fa1a6e8988c940de958a893a98aad11f2a3b5d1633793e5beec0e789e096dbef"
   }
  }
 },
 "nbformat": 4,
 "nbformat_minor": 2
}

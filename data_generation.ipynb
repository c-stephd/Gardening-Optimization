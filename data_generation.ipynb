{
 "cells": [
  {
   "attachments": {},
   "cell_type": "markdown",
   "id": "8a8f79cc",
   "metadata": {},
   "source": [
    "## Data Generation"
   ]
  },
  {
   "attachments": {},
   "cell_type": "markdown",
   "id": "f52121c6",
   "metadata": {},
   "source": [
    "In this notebook, we generate a new data set to train the Agriculture_Optimization model.\n",
    "The new dataset comprises of foods that can be grown locally in small gardens at home and are used daily in the household. "
   ]
  },
  {
   "cell_type": "code",
   "execution_count": 1,
   "id": "b370f14d",
   "metadata": {},
   "outputs": [],
   "source": [
    "#importing libraries\n",
    "import pandas as pd \n",
    "import numpy as np"
   ]
  },
  {
   "cell_type": "code",
   "execution_count": 2,
   "id": "c2caeb73",
   "metadata": {},
   "outputs": [
    {
     "data": {
      "text/plain": [
       "(700, 8)"
      ]
     },
     "execution_count": 2,
     "metadata": {},
     "output_type": "execute_result"
    }
   ],
   "source": [
    "# Outline of data collected\n",
    "crop_data= {'plantain': {'N': [150, 200], 'P': [40, 60], 'K': [200, 300], 'temperature': [26, 30], 'humidity': [80, 90], 'ph': [5.5, 7.0], 'rainfall': [60, 100]},\n",
    "'tomato': {'N': [120, 150], 'P': [40, 60], 'K': [120, 150], 'temperature': [18, 32], 'humidity': [65, 85], 'ph': [6.0, 6.8], 'rainfall': [50, 60]},\n",
    "'pepper': {'N': [120, 150], 'P': [30, 50], 'K': [150, 200], 'temperature': [21, 27], 'humidity': [60, 70], 'ph': [6.0, 7.0], 'rainfall': [40, 80]}, \n",
    "'ugwu': {'N': [100, 150], 'P': [30, 50], 'K': [150, 200], 'temperature': [21, 27], 'humidity': [60, 70], 'ph': [6.0, 7.0], 'rainfall': [40, 80]}, \n",
    "'potato': {'N': [100, 150], 'P': [20, 30], 'K': [150, 200], 'temperature': [15, 21], 'humidity': [40, 60], 'ph': [4.5, 6.0], 'rainfall': [60, 100]}, \n",
    "'corn': {'N': [120, 150], 'P': [60, 80], 'K': [150, 200], 'temperature': [21, 29], 'humidity': [60, 70], 'ph': [6.0, 7.0], 'rainfall': [60, 100]}, \n",
    "'ginger': {'N': [60, 100], 'P': [20, 30], 'K': [40, 60], 'temperature': [30, 35], 'humidity': [50, 70], 'ph': [5.5, 6.5], 'rainfall': [59, 100]}}\n",
    "\n",
    "#creating dataframe for the data\n",
    "df = pd.DataFrame()\n",
    "\n",
    "#creating for loop to loop through data for different crops\n",
    "for crop, condition in crop_data.items():\n",
    "    df_label= pd.DataFrame(data=[crop],columns=['label'])\n",
    "    df_lab=pd.concat([df_label]*100, ignore_index=True)\n",
    "\n",
    "    # Generating dataset from range of conditions for each crop\n",
    "    \n",
    "    #nitrogen\n",
    "    df_nit = pd.DataFrame(np.random.randint(condition['N'][0], condition['N'][1],size=(100, 1)), columns=['Nitrogen'])\n",
    "    #phophorus\n",
    "    df_pho = pd.DataFrame(np.random.randint(condition['P'][0], condition['P'][1],size=(100, 1)), columns=['Phosphorus'])\n",
    "    #potassium\n",
    "    df_k = pd.DataFrame(np.random.randint(condition['K'][0], condition['K'][1],size=(100, 1)), columns=['Potassium'])\n",
    "    #temperature\n",
    "    df_temp = pd.DataFrame(np.random.uniform(condition['temperature'][0], condition['temperature'][1],size=(100, 1)), columns=['temperature'])\n",
    "    #ph\n",
    "    df_ph = pd.DataFrame(np.random.uniform(condition['ph'][0], condition['ph'][1],size=(100, 1)), columns=['ph'])\n",
    "    #humidity\n",
    "    df_hum = pd.DataFrame(np.random.uniform(condition['humidity'][0], condition['humidity'][1],size=(100, 1)), columns=['humidity'])\n",
    "    #rainfall\n",
    "    df_rain = pd.DataFrame(np.random.uniform(condition['rainfall'][0], condition['rainfall'][1],size=(100, 1)), columns=['rainfall'])\n",
    "\n",
    "    #combining the columns into one dataframe\n",
    "    frames = [df_nit,df_pho,df_k,df_temp,df_hum,df_ph,df_rain,df_lab]\n",
    "    df_combine = pd.concat(frames,axis=1, join='inner')\n",
    "\n",
    "    df = pd.concat([df, df_combine], ignore_index = True)\n",
    "\n",
    "df.shape"
   ]
  },
  {
   "cell_type": "code",
   "execution_count": 3,
   "id": "1895a4fd",
   "metadata": {},
   "outputs": [],
   "source": [
    "# Importing existing data and combining it with newly created data\n",
    "data = pd.read_csv('Agric_dataset.csv')\n",
    "\n",
    "final_data = pd.concat([df, data], ignore_index = True)"
   ]
  },
  {
   "cell_type": "code",
   "execution_count": 4,
   "id": "1265e4dc",
   "metadata": {},
   "outputs": [
    {
     "data": {
      "text/plain": [
       "(3500, 8)"
      ]
     },
     "execution_count": 4,
     "metadata": {},
     "output_type": "execute_result"
    }
   ],
   "source": [
    "final_data.shape"
   ]
  },
  {
   "cell_type": "code",
   "execution_count": 5,
   "id": "0f560e86",
   "metadata": {},
   "outputs": [],
   "source": [
    "# Exporting data to csv\n",
    "final_data.to_csv('Updated_Agric_dataset.csv', index = False, encoding='utf-8')"
   ]
  }
 ],
 "metadata": {
  "kernelspec": {
   "display_name": "base",
   "language": "python",
   "name": "python3"
  },
  "language_info": {
   "codemirror_mode": {
    "name": "ipython",
    "version": 3
   },
   "file_extension": ".py",
   "mimetype": "text/x-python",
   "name": "python",
   "nbconvert_exporter": "python",
   "pygments_lexer": "ipython3",
   "version": "3.9.13"
  },
  "vscode": {
   "interpreter": {
    "hash": "fa1a6e8988c940de958a893a98aad11f2a3b5d1633793e5beec0e789e096dbef"
   }
  }
 },
 "nbformat": 4,
 "nbformat_minor": 5
}
